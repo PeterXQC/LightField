{
 "cells": [
  {
   "cell_type": "code",
   "execution_count": null,
   "id": "fd696a46-1517-4790-be74-e995174318e8",
   "metadata": {},
   "outputs": [],
   "source": [
    "import torch \n",
    "from torch import nn"
   ]
  },
  {
   "cell_type": "code",
   "execution_count": null,
   "id": "ba3b0b5e-c607-413a-9d6a-a9ba4368801e",
   "metadata": {},
   "outputs": [],
   "source": []
  }
 ],
 "metadata": {
  "kernelspec": {
   "display_name": "qcx",
   "language": "python",
   "name": "qcx"
  },
  "language_info": {
   "name": ""
  }
 },
 "nbformat": 4,
 "nbformat_minor": 5
}
