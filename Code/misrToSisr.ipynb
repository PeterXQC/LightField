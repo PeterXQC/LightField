{
 "cells": [
  {
   "cell_type": "code",
   "execution_count": 6,
   "id": "5be3e021-35cb-42eb-a4ec-7f1a37f35679",
   "metadata": {},
   "outputs": [
    {
     "data": {
      "text/plain": [
       "True"
      ]
     },
     "execution_count": 6,
     "metadata": {},
     "output_type": "execute_result"
    }
   ],
   "source": [
    "import glob\n",
    "from PIL import Image, ImageSequence\n",
    "\n",
    "import torch\n",
    "import numpy as np\n",
    "from tifffile import imread\n",
    "import matplotlib.pyplot as plt\n",
    "torch.cuda.is_available()"
   ]
  },
  {
   "cell_type": "code",
   "execution_count": 7,
   "id": "7abc1ea0-ffca-4c5f-97e0-8fadaf3fc6a7",
   "metadata": {},
   "outputs": [
    {
     "data": {
      "text/plain": [
       "'2.0.1+cu118'"
      ]
     },
     "execution_count": 7,
     "metadata": {},
     "output_type": "execute_result"
    }
   ],
   "source": [
    "torch.__version__"
   ]
  },
  {
   "cell_type": "code",
   "execution_count": 9,
   "id": "2bb11a4c-60ac-4b57-b736-544653ce001c",
   "metadata": {},
   "outputs": [],
   "source": [
    "LR_names = glob.glob('lightfield_mini/train/LF/*')\n",
    "LR_tiffs = [imread(file) for file in LR_names]\n",
    "\n",
    "# LR = []\n",
    "# for j in range(len(LR_tiffs)):\n",
    "#     image = []\n",
    "#     for i, page in enumerate(ImageSequence.Iterator(LR_tiffs[j])):\n",
    "#         image.append(page)\n",
    "#     LR.append(image)"
   ]
  },
  {
   "cell_type": "code",
   "execution_count": 10,
   "id": "056c1518-7376-473c-a047-1269a72fdbf5",
   "metadata": {},
   "outputs": [],
   "source": [
    "# Convert the image to a tensor\n",
    "# transform = transforms.ToTensor()\n",
    "# tensor = transform(LR_tiffs[0])\n",
    "\n",
    "# Convert the numpy array to a tensor\n",
    "tensor = torch.from_numpy(LR_tiffs[0])"
   ]
  },
  {
   "cell_type": "code",
   "execution_count": 11,
   "id": "9be91069-1955-4f58-9925-b3d8d8f54056",
   "metadata": {},
   "outputs": [
    {
     "data": {
      "text/plain": [
       "torch.Size([32, 64, 64])"
      ]
     },
     "execution_count": 11,
     "metadata": {},
     "output_type": "execute_result"
    }
   ],
   "source": [
    "tensor.size()"
   ]
  },
  {
   "cell_type": "code",
   "execution_count": 3,
   "id": "40ae0915-c650-49bb-af20-a12ef4b45bb7",
   "metadata": {},
   "outputs": [],
   "source": [
    "HR_names = glob.glob('lightfield_mini/train/GT/*')\n",
    "HR = [Image.open(file) for file in HR_names]"
   ]
  },
  {
   "cell_type": "code",
   "execution_count": null,
   "id": "89c63dca-c022-40d7-93fe-8f56241b6838",
   "metadata": {},
   "outputs": [],
   "source": []
  },
  {
   "cell_type": "code",
   "execution_count": null,
   "id": "aaa0f6ac-c796-43f9-b907-60275d6690dc",
   "metadata": {},
   "outputs": [],
   "source": []
  }
 ],
 "metadata": {
  "kernelspec": {
   "display_name": "Python 3 (ipykernel)",
   "language": "python",
   "name": "python3"
  },
  "language_info": {
   "codemirror_mode": {
    "name": "ipython",
    "version": 3
   },
   "file_extension": ".py",
   "mimetype": "text/x-python",
   "name": "python",
   "nbconvert_exporter": "python",
   "pygments_lexer": "ipython3",
   "version": "3.10.9"
  }
 },
 "nbformat": 4,
 "nbformat_minor": 5
}
